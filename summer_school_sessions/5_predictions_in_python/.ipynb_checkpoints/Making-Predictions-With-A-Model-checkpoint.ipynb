{
 "cells": [
  {
   "cell_type": "markdown",
   "metadata": {},
   "source": [
    "# Making Pre-hoc Predictions with a Model: Quantitative Guesswork!\n",
    "\n",
    "##### Author: Bill Thompson (biltho@mpi.nl)\n",
    "\n",
    "---------------\n",
    "\n",
    "##### Summary\n",
    "\n",
    "Imagine you are considering running this experiment in full, and wish to make some quantitative predictions about its outcomes (perhaps for pre-registration, etc) before running the experiment. You discover that somebody else has already run a similar (but less exhaustive) experiment, testing how Affect relates to other dimensions. Can we make use of this pre-existing data in making our predictions?\n",
    "\n",
    "This notebook shows one way to do this: to use pre-existing experimental results to make predictions about new domain-pair assosciations that we don't yet have experimental results for. \n",
    "\n",
    "-------------- \n",
    "\n",
    "### 1: Introduction: Imputing Unobserved Assosciations (Generalising from the Affect data) \n",
    "\n",
    "How can we use subsets of our data to make predictions about unobserved assosciations? Let's start by looking just at a single example, and focusing on how to predict this single case. The (optional) later sections of this notebook will show how to generalise this example to all domain-pairs.\n",
    "\n",
    "###### 1.1: An example: Size, Pitch, and Affect\n",
    "\n",
    "Let's say we are particularly interested in the assosciation between Speed and Pitch: do fast things go with high pitched things (High with High: 1), or with low pitched things (High with Low: 0)? We don't have experimental results for this particular assosciation, but we do have experimental results for both of these domains with Affect: we have results for Affect :: Size, and results for Affect :: Pitch.\n",
    "\n",
    "A reasonable hypothesis is that if Size is consistently assosciated with Affect (i.e. \"High\" Speed goes with \"High\" Size), and Pitch is also consistently assosciated with Affect (i.e. \"High\" Affect goes with \"High\" Speed), then Size and Pitch will have the same relationship (High Size with High Pitch).\n",
    "\n",
    "###### 1.2: Binary Prediction (Consistent vs. Inconsistent)\n",
    "Let's start by predicting whether we think the relationship between Size and Pitch will be what we're calling \"consistent\" (High with High, Low with Low: 1) or inconsistent (High with Low, Low with High: 0). \n",
    "\n",
    "Our approach will be as follows:\n",
    "\n",
    "1.  Read in the pre-collected Affect data\n",
    "2.  Find the results for Affect and Pitch\n",
    "3.  Find the results for Affect and Size\n",
    "4.  Calculate the mean proportion of \"Consistent\" responses in the Pitch results\n",
    "5.  Calculate the mean proportion of \"Consistent\" responses in the Size results\n",
    "6.  Calculate the average of these mean consistencies\n",
    "7.  If the average predicted mean is larger than .5, predict a consistent relatinship (1), otherwise predict an inconsistent relationship (0).\n",
    "\n",
    "There are of course other ways to make predictions about unseen assosciations (e.g. skip step 7. and make a probabilistic prediction), and we will cover some of these later, but for now let's proceed with this approach. Here's how we can do this in Python. \n",
    "\n",
    "--------------------------------\n",
    "\n",
    "### 2: A Python Workflow\n",
    "###### 2.1: Reading in the neccesary data"
   ]
  },
  {
   "cell_type": "code",
   "execution_count": 1,
   "metadata": {},
   "outputs": [
    {
     "data": {
      "text/html": [
       "<div>\n",
       "<style>\n",
       "    .dataframe thead tr:only-child th {\n",
       "        text-align: right;\n",
       "    }\n",
       "\n",
       "    .dataframe thead th {\n",
       "        text-align: left;\n",
       "    }\n",
       "\n",
       "    .dataframe tbody tr th {\n",
       "        vertical-align: top;\n",
       "    }\n",
       "</style>\n",
       "<table border=\"1\" class=\"dataframe\">\n",
       "  <thead>\n",
       "    <tr style=\"text-align: right;\">\n",
       "      <th></th>\n",
       "      <th>DataSet</th>\n",
       "      <th>Subject</th>\n",
       "      <th>Condition</th>\n",
       "      <th>TrialNum</th>\n",
       "      <th>Inducer</th>\n",
       "      <th>Concurrent</th>\n",
       "      <th>Comparison</th>\n",
       "      <th>Response</th>\n",
       "      <th>Magnitude</th>\n",
       "      <th>LitReview</th>\n",
       "      <th>Affect</th>\n",
       "    </tr>\n",
       "  </thead>\n",
       "  <tbody>\n",
       "    <tr>\n",
       "      <th>0</th>\n",
       "      <td>Pilot</td>\n",
       "      <td>0BwAB3cQny</td>\n",
       "      <td>Noise-Shape-Speed</td>\n",
       "      <td>1</td>\n",
       "      <td>Affect EB</td>\n",
       "      <td>Noise</td>\n",
       "      <td>Affect EB-Noise</td>\n",
       "      <td>0</td>\n",
       "      <td>0</td>\n",
       "      <td>0</td>\n",
       "      <td>1</td>\n",
       "    </tr>\n",
       "    <tr>\n",
       "      <th>1</th>\n",
       "      <td>Pilot</td>\n",
       "      <td>0BwAB3cQny</td>\n",
       "      <td>Noise-Shape-Speed</td>\n",
       "      <td>2</td>\n",
       "      <td>Noise</td>\n",
       "      <td>Speed</td>\n",
       "      <td>Noise-Speed</td>\n",
       "      <td>0</td>\n",
       "      <td>0</td>\n",
       "      <td>0</td>\n",
       "      <td>0</td>\n",
       "    </tr>\n",
       "    <tr>\n",
       "      <th>2</th>\n",
       "      <td>Pilot</td>\n",
       "      <td>0BwAB3cQny</td>\n",
       "      <td>Noise-Shape-Speed</td>\n",
       "      <td>3</td>\n",
       "      <td>Brightness</td>\n",
       "      <td>Speed</td>\n",
       "      <td>Brightness-Speed</td>\n",
       "      <td>1</td>\n",
       "      <td>1</td>\n",
       "      <td>1</td>\n",
       "      <td>1</td>\n",
       "    </tr>\n",
       "    <tr>\n",
       "      <th>3</th>\n",
       "      <td>Pilot</td>\n",
       "      <td>0BwAB3cQny</td>\n",
       "      <td>Noise-Shape-Speed</td>\n",
       "      <td>4</td>\n",
       "      <td>Amp</td>\n",
       "      <td>Speed</td>\n",
       "      <td>Amp-Speed</td>\n",
       "      <td>1</td>\n",
       "      <td>1</td>\n",
       "      <td>1</td>\n",
       "      <td>1</td>\n",
       "    </tr>\n",
       "    <tr>\n",
       "      <th>4</th>\n",
       "      <td>Pilot</td>\n",
       "      <td>0BwAB3cQny</td>\n",
       "      <td>Noise-Shape-Speed</td>\n",
       "      <td>5</td>\n",
       "      <td>Noise</td>\n",
       "      <td>Speed</td>\n",
       "      <td>Noise-Speed</td>\n",
       "      <td>1</td>\n",
       "      <td>1</td>\n",
       "      <td>1</td>\n",
       "      <td>1</td>\n",
       "    </tr>\n",
       "  </tbody>\n",
       "</table>\n",
       "</div>"
      ],
      "text/plain": [
       "  DataSet     Subject          Condition  TrialNum     Inducer Concurrent  \\\n",
       "0   Pilot  0BwAB3cQny  Noise-Shape-Speed         1   Affect EB      Noise   \n",
       "1   Pilot  0BwAB3cQny  Noise-Shape-Speed         2       Noise      Speed   \n",
       "2   Pilot  0BwAB3cQny  Noise-Shape-Speed         3  Brightness      Speed   \n",
       "3   Pilot  0BwAB3cQny  Noise-Shape-Speed         4         Amp      Speed   \n",
       "4   Pilot  0BwAB3cQny  Noise-Shape-Speed         5       Noise      Speed   \n",
       "\n",
       "         Comparison  Response  Magnitude  LitReview  Affect  \n",
       "0   Affect EB-Noise         0          0          0       1  \n",
       "1       Noise-Speed         0          0          0       0  \n",
       "2  Brightness-Speed         1          1          1       1  \n",
       "3         Amp-Speed         1          1          1       1  \n",
       "4       Noise-Speed         1          1          1       1  "
      ]
     },
     "execution_count": 1,
     "metadata": {},
     "output_type": "execute_result"
    }
   ],
   "source": [
    "# we always need pandas to use dataframes\n",
    "import pandas as pd\n",
    "\n",
    "# use Pandas (pd) to read in the data we have\n",
    "data = pd.read_csv('CleanData.csv')\n",
    "\n",
    "# and let's have a quick look at the data (calling data.head shows the first 5 rows)\n",
    "data.head()"
   ]
  },
  {
   "cell_type": "code",
   "execution_count": 2,
   "metadata": {},
   "outputs": [
    {
     "data": {
      "text/html": [
       "<div>\n",
       "<style>\n",
       "    .dataframe thead tr:only-child th {\n",
       "        text-align: right;\n",
       "    }\n",
       "\n",
       "    .dataframe thead th {\n",
       "        text-align: left;\n",
       "    }\n",
       "\n",
       "    .dataframe tbody tr th {\n",
       "        vertical-align: top;\n",
       "    }\n",
       "</style>\n",
       "<table border=\"1\" class=\"dataframe\">\n",
       "  <thead>\n",
       "    <tr style=\"text-align: right;\">\n",
       "      <th></th>\n",
       "      <th>DataSet</th>\n",
       "      <th>Subject</th>\n",
       "      <th>Condition</th>\n",
       "      <th>TrialNum</th>\n",
       "      <th>Inducer</th>\n",
       "      <th>Concurrent</th>\n",
       "      <th>Comparison</th>\n",
       "      <th>Response</th>\n",
       "      <th>Magnitude</th>\n",
       "      <th>LitReview</th>\n",
       "      <th>Affect</th>\n",
       "    </tr>\n",
       "  </thead>\n",
       "  <tbody>\n",
       "    <tr>\n",
       "      <th>5856</th>\n",
       "      <td>Affect</td>\n",
       "      <td>1d8E46bnpK</td>\n",
       "      <td>Affect</td>\n",
       "      <td>1</td>\n",
       "      <td>Affect PD</td>\n",
       "      <td>Pitch</td>\n",
       "      <td>Affect PD-Pitch</td>\n",
       "      <td>0</td>\n",
       "      <td>0</td>\n",
       "      <td>0</td>\n",
       "      <td>0</td>\n",
       "    </tr>\n",
       "    <tr>\n",
       "      <th>5857</th>\n",
       "      <td>Affect</td>\n",
       "      <td>1d8E46bnpK</td>\n",
       "      <td>Affect</td>\n",
       "      <td>2</td>\n",
       "      <td>Pitch</td>\n",
       "      <td>Affect HS</td>\n",
       "      <td>Affect HS-Pitch</td>\n",
       "      <td>1</td>\n",
       "      <td>1</td>\n",
       "      <td>1</td>\n",
       "      <td>1</td>\n",
       "    </tr>\n",
       "    <tr>\n",
       "      <th>5858</th>\n",
       "      <td>Affect</td>\n",
       "      <td>1d8E46bnpK</td>\n",
       "      <td>Affect</td>\n",
       "      <td>3</td>\n",
       "      <td>Speed</td>\n",
       "      <td>Affect EB</td>\n",
       "      <td>Affect EB-Speed</td>\n",
       "      <td>1</td>\n",
       "      <td>1</td>\n",
       "      <td>1</td>\n",
       "      <td>1</td>\n",
       "    </tr>\n",
       "    <tr>\n",
       "      <th>5859</th>\n",
       "      <td>Affect</td>\n",
       "      <td>1d8E46bnpK</td>\n",
       "      <td>Affect</td>\n",
       "      <td>4</td>\n",
       "      <td>Affect SC</td>\n",
       "      <td>Amp</td>\n",
       "      <td>Affect SC-Amp</td>\n",
       "      <td>1</td>\n",
       "      <td>1</td>\n",
       "      <td>1</td>\n",
       "      <td>1</td>\n",
       "    </tr>\n",
       "    <tr>\n",
       "      <th>5860</th>\n",
       "      <td>Affect</td>\n",
       "      <td>1d8E46bnpK</td>\n",
       "      <td>Affect</td>\n",
       "      <td>5</td>\n",
       "      <td>Brightness</td>\n",
       "      <td>Affect SC</td>\n",
       "      <td>Affect SC-Brightness</td>\n",
       "      <td>1</td>\n",
       "      <td>1</td>\n",
       "      <td>1</td>\n",
       "      <td>1</td>\n",
       "    </tr>\n",
       "  </tbody>\n",
       "</table>\n",
       "</div>"
      ],
      "text/plain": [
       "     DataSet     Subject Condition  TrialNum     Inducer Concurrent  \\\n",
       "5856  Affect  1d8E46bnpK    Affect         1   Affect PD      Pitch   \n",
       "5857  Affect  1d8E46bnpK    Affect         2       Pitch  Affect HS   \n",
       "5858  Affect  1d8E46bnpK    Affect         3       Speed  Affect EB   \n",
       "5859  Affect  1d8E46bnpK    Affect         4   Affect SC        Amp   \n",
       "5860  Affect  1d8E46bnpK    Affect         5  Brightness  Affect SC   \n",
       "\n",
       "                Comparison  Response  Magnitude  LitReview  Affect  \n",
       "5856       Affect PD-Pitch         0          0          0       0  \n",
       "5857       Affect HS-Pitch         1          1          1       1  \n",
       "5858       Affect EB-Speed         1          1          1       1  \n",
       "5859         Affect SC-Amp         1          1          1       1  \n",
       "5860  Affect SC-Brightness         1          1          1       1  "
      ]
     },
     "execution_count": 2,
     "metadata": {},
     "output_type": "execute_result"
    }
   ],
   "source": [
    "# let's subset the data to only the affect-related assosciations\n",
    "affect_data = data[data.DataSet == 'Affect'].copy()\n",
    "\n",
    "# and have a quick look at the data\n",
    "affect_data.head()"
   ]
  },
  {
   "cell_type": "markdown",
   "metadata": {},
   "source": [
    "Now we have the affect_data we need, we want to achieve step 2 above (identifying the data for Speed and Pitch specifically). Let's start with Speed:"
   ]
  },
  {
   "cell_type": "code",
   "execution_count": 3,
   "metadata": {},
   "outputs": [
    {
     "data": {
      "text/html": [
       "<div>\n",
       "<style>\n",
       "    .dataframe thead tr:only-child th {\n",
       "        text-align: right;\n",
       "    }\n",
       "\n",
       "    .dataframe thead th {\n",
       "        text-align: left;\n",
       "    }\n",
       "\n",
       "    .dataframe tbody tr th {\n",
       "        vertical-align: top;\n",
       "    }\n",
       "</style>\n",
       "<table border=\"1\" class=\"dataframe\">\n",
       "  <thead>\n",
       "    <tr style=\"text-align: right;\">\n",
       "      <th></th>\n",
       "      <th>DataSet</th>\n",
       "      <th>Subject</th>\n",
       "      <th>Condition</th>\n",
       "      <th>TrialNum</th>\n",
       "      <th>Inducer</th>\n",
       "      <th>Concurrent</th>\n",
       "      <th>Comparison</th>\n",
       "      <th>Response</th>\n",
       "      <th>Magnitude</th>\n",
       "      <th>LitReview</th>\n",
       "      <th>Affect</th>\n",
       "    </tr>\n",
       "  </thead>\n",
       "  <tbody>\n",
       "    <tr>\n",
       "      <th>5858</th>\n",
       "      <td>Affect</td>\n",
       "      <td>1d8E46bnpK</td>\n",
       "      <td>Affect</td>\n",
       "      <td>3</td>\n",
       "      <td>Speed</td>\n",
       "      <td>Affect EB</td>\n",
       "      <td>Affect EB-Speed</td>\n",
       "      <td>1</td>\n",
       "      <td>1</td>\n",
       "      <td>1</td>\n",
       "      <td>1</td>\n",
       "    </tr>\n",
       "    <tr>\n",
       "      <th>5874</th>\n",
       "      <td>Affect</td>\n",
       "      <td>1d8E46bnpK</td>\n",
       "      <td>Affect</td>\n",
       "      <td>19</td>\n",
       "      <td>Speed</td>\n",
       "      <td>Affect SC</td>\n",
       "      <td>Affect SC-Speed</td>\n",
       "      <td>1</td>\n",
       "      <td>1</td>\n",
       "      <td>1</td>\n",
       "      <td>1</td>\n",
       "    </tr>\n",
       "    <tr>\n",
       "      <th>5877</th>\n",
       "      <td>Affect</td>\n",
       "      <td>1d8E46bnpK</td>\n",
       "      <td>Affect</td>\n",
       "      <td>22</td>\n",
       "      <td>Affect EB</td>\n",
       "      <td>Speed</td>\n",
       "      <td>Affect EB-Speed</td>\n",
       "      <td>1</td>\n",
       "      <td>1</td>\n",
       "      <td>1</td>\n",
       "      <td>1</td>\n",
       "    </tr>\n",
       "    <tr>\n",
       "      <th>5881</th>\n",
       "      <td>Affect</td>\n",
       "      <td>1d8E46bnpK</td>\n",
       "      <td>Affect</td>\n",
       "      <td>26</td>\n",
       "      <td>Affect HS</td>\n",
       "      <td>Speed</td>\n",
       "      <td>Affect HS-Speed</td>\n",
       "      <td>1</td>\n",
       "      <td>1</td>\n",
       "      <td>1</td>\n",
       "      <td>1</td>\n",
       "    </tr>\n",
       "    <tr>\n",
       "      <th>5884</th>\n",
       "      <td>Affect</td>\n",
       "      <td>1d8E46bnpK</td>\n",
       "      <td>Affect</td>\n",
       "      <td>29</td>\n",
       "      <td>Affect SC</td>\n",
       "      <td>Speed</td>\n",
       "      <td>Affect SC-Speed</td>\n",
       "      <td>1</td>\n",
       "      <td>1</td>\n",
       "      <td>1</td>\n",
       "      <td>1</td>\n",
       "    </tr>\n",
       "  </tbody>\n",
       "</table>\n",
       "</div>"
      ],
      "text/plain": [
       "     DataSet     Subject Condition  TrialNum    Inducer Concurrent  \\\n",
       "5858  Affect  1d8E46bnpK    Affect         3      Speed  Affect EB   \n",
       "5874  Affect  1d8E46bnpK    Affect        19      Speed  Affect SC   \n",
       "5877  Affect  1d8E46bnpK    Affect        22  Affect EB      Speed   \n",
       "5881  Affect  1d8E46bnpK    Affect        26  Affect HS      Speed   \n",
       "5884  Affect  1d8E46bnpK    Affect        29  Affect SC      Speed   \n",
       "\n",
       "           Comparison  Response  Magnitude  LitReview  Affect  \n",
       "5858  Affect EB-Speed         1          1          1       1  \n",
       "5874  Affect SC-Speed         1          1          1       1  \n",
       "5877  Affect EB-Speed         1          1          1       1  \n",
       "5881  Affect HS-Speed         1          1          1       1  \n",
       "5884  Affect SC-Speed         1          1          1       1  "
      ]
     },
     "execution_count": 3,
     "metadata": {},
     "output_type": "execute_result"
    }
   ],
   "source": [
    "# we can do this by identifying any rows of the dataset in which...\n",
    "# ...either the Concurrent or the Inducer is \"Speed\"\n",
    "# = step 2\n",
    "speed_data = affect_data[(affect_data.Concurrent == 'Speed') | (affect_data.Inducer == 'Speed')]\n",
    "\n",
    "# and again let's eyeball the data\n",
    "speed_data.head()"
   ]
  },
  {
   "cell_type": "code",
   "execution_count": 4,
   "metadata": {},
   "outputs": [
    {
     "data": {
      "text/html": [
       "<div>\n",
       "<style>\n",
       "    .dataframe thead tr:only-child th {\n",
       "        text-align: right;\n",
       "    }\n",
       "\n",
       "    .dataframe thead th {\n",
       "        text-align: left;\n",
       "    }\n",
       "\n",
       "    .dataframe tbody tr th {\n",
       "        vertical-align: top;\n",
       "    }\n",
       "</style>\n",
       "<table border=\"1\" class=\"dataframe\">\n",
       "  <thead>\n",
       "    <tr style=\"text-align: right;\">\n",
       "      <th></th>\n",
       "      <th>DataSet</th>\n",
       "      <th>Subject</th>\n",
       "      <th>Condition</th>\n",
       "      <th>TrialNum</th>\n",
       "      <th>Inducer</th>\n",
       "      <th>Concurrent</th>\n",
       "      <th>Comparison</th>\n",
       "      <th>Response</th>\n",
       "      <th>Magnitude</th>\n",
       "      <th>LitReview</th>\n",
       "      <th>Affect</th>\n",
       "    </tr>\n",
       "  </thead>\n",
       "  <tbody>\n",
       "    <tr>\n",
       "      <th>5856</th>\n",
       "      <td>Affect</td>\n",
       "      <td>1d8E46bnpK</td>\n",
       "      <td>Affect</td>\n",
       "      <td>1</td>\n",
       "      <td>Affect PD</td>\n",
       "      <td>Pitch</td>\n",
       "      <td>Affect PD-Pitch</td>\n",
       "      <td>0</td>\n",
       "      <td>0</td>\n",
       "      <td>0</td>\n",
       "      <td>0</td>\n",
       "    </tr>\n",
       "    <tr>\n",
       "      <th>5857</th>\n",
       "      <td>Affect</td>\n",
       "      <td>1d8E46bnpK</td>\n",
       "      <td>Affect</td>\n",
       "      <td>2</td>\n",
       "      <td>Pitch</td>\n",
       "      <td>Affect HS</td>\n",
       "      <td>Affect HS-Pitch</td>\n",
       "      <td>1</td>\n",
       "      <td>1</td>\n",
       "      <td>1</td>\n",
       "      <td>1</td>\n",
       "    </tr>\n",
       "    <tr>\n",
       "      <th>5864</th>\n",
       "      <td>Affect</td>\n",
       "      <td>1d8E46bnpK</td>\n",
       "      <td>Affect</td>\n",
       "      <td>9</td>\n",
       "      <td>Affect EB</td>\n",
       "      <td>Pitch</td>\n",
       "      <td>Affect EB-Pitch</td>\n",
       "      <td>1</td>\n",
       "      <td>1</td>\n",
       "      <td>1</td>\n",
       "      <td>1</td>\n",
       "    </tr>\n",
       "    <tr>\n",
       "      <th>5878</th>\n",
       "      <td>Affect</td>\n",
       "      <td>1d8E46bnpK</td>\n",
       "      <td>Affect</td>\n",
       "      <td>23</td>\n",
       "      <td>Affect HS</td>\n",
       "      <td>Pitch</td>\n",
       "      <td>Affect HS-Pitch</td>\n",
       "      <td>1</td>\n",
       "      <td>1</td>\n",
       "      <td>1</td>\n",
       "      <td>1</td>\n",
       "    </tr>\n",
       "    <tr>\n",
       "      <th>5886</th>\n",
       "      <td>Affect</td>\n",
       "      <td>1d8E46bnpK</td>\n",
       "      <td>Affect</td>\n",
       "      <td>31</td>\n",
       "      <td>Pitch</td>\n",
       "      <td>Affect PD</td>\n",
       "      <td>Affect PD-Pitch</td>\n",
       "      <td>1</td>\n",
       "      <td>1</td>\n",
       "      <td>1</td>\n",
       "      <td>1</td>\n",
       "    </tr>\n",
       "  </tbody>\n",
       "</table>\n",
       "</div>"
      ],
      "text/plain": [
       "     DataSet     Subject Condition  TrialNum    Inducer Concurrent  \\\n",
       "5856  Affect  1d8E46bnpK    Affect         1  Affect PD      Pitch   \n",
       "5857  Affect  1d8E46bnpK    Affect         2      Pitch  Affect HS   \n",
       "5864  Affect  1d8E46bnpK    Affect         9  Affect EB      Pitch   \n",
       "5878  Affect  1d8E46bnpK    Affect        23  Affect HS      Pitch   \n",
       "5886  Affect  1d8E46bnpK    Affect        31      Pitch  Affect PD   \n",
       "\n",
       "           Comparison  Response  Magnitude  LitReview  Affect  \n",
       "5856  Affect PD-Pitch         0          0          0       0  \n",
       "5857  Affect HS-Pitch         1          1          1       1  \n",
       "5864  Affect EB-Pitch         1          1          1       1  \n",
       "5878  Affect HS-Pitch         1          1          1       1  \n",
       "5886  Affect PD-Pitch         1          1          1       1  "
      ]
     },
     "execution_count": 4,
     "metadata": {},
     "output_type": "execute_result"
    }
   ],
   "source": [
    "# and let's do the same for Pitch\n",
    "# = step 3.\n",
    "pitch_data = affect_data[(affect_data.Concurrent == 'Pitch') | (affect_data.Inducer == 'Pitch')]\n",
    "\n",
    "pitch_data.head()"
   ]
  },
  {
   "cell_type": "markdown",
   "metadata": {},
   "source": [
    "Now we need to compute the mean proprtion of \"consistent\" responses for in both the Speed data and the Pitch data. How might we do this?\n",
    "\n",
    "The Pandas dataframe that is holding our data has a convenient method for calculating means, which we can apply to the \"Response\" column of our dataset. This works becase every entry in the Response column is either a zero (inconsistent) or a one (consistent). Simply calculating the mean of this column therefore tells us the proportion of answers which were consistent!  "
   ]
  },
  {
   "cell_type": "code",
   "execution_count": 5,
   "metadata": {},
   "outputs": [
    {
     "name": "stdout",
     "output_type": "stream",
     "text": [
      "mean consistency for speed:  0.893181818182\n",
      "mean consistency for pitch:  0.556818181818\n"
     ]
    }
   ],
   "source": [
    "# = step 4.\n",
    "# calculate the proportion of \"consistent\" responses in the speed data\n",
    "mean_consistency_speed = speed_data.Response.mean()\n",
    "\n",
    "# = step 5.\n",
    "# And in the pitch data\n",
    "mean_consistency_pitch = pitch_data.Response.mean()\n",
    "\n",
    "print \"mean consistency for speed: \", mean_consistency_speed\n",
    "print \"mean consistency for pitch: \", mean_consistency_pitch"
   ]
  },
  {
   "cell_type": "markdown",
   "metadata": {},
   "source": [
    "interesting: looks like according to our data, speed gets more consistent responses with affect than does pitch with affect. \n",
    "\n",
    "Finally, we are now in a position to make a decision about whether we want to predict a consistent or an inconsistent response pattern for the assosciation between Speed and Pitch. According to our procedure outlined at the start, we need to take the average of `mean_consistency_speed` and `mean_consistency_pitch`, and see whether it reaches our > .5 threshold for predicting a consistent assosciation."
   ]
  },
  {
   "cell_type": "code",
   "execution_count": 6,
   "metadata": {},
   "outputs": [
    {
     "name": "stdout",
     "output_type": "stream",
     "text": [
      "our final prediction is:  1\n"
     ]
    }
   ],
   "source": [
    "# calculate the average of mean_consistency_pitch and mean_consistency_speed\n",
    "# = step 6.\n",
    "overall_average = (mean_consistency_pitch + mean_consistency_speed) / 2.\n",
    "\n",
    "# make a decision whether to predict a consistent or an inconsistent assosciation between speed and pitch\n",
    "# = step 7.\n",
    "prediction = 1 if overall_average > .5 else 0\n",
    "\n",
    "print \"our final prediction is: \", prediction"
   ]
  },
  {
   "cell_type": "markdown",
   "metadata": {},
   "source": [
    "This concludes our first example for how to predict an unobserved datapoint based on an existing datapoint. Do you think it's a good prediction?\n",
    "\n",
    "Note that we could make a simple change to the code above and instead of predicting a 1 or a 0, simply make the final \"average consistency\" (i.e. the rsults of step 6.) our prediction.\n",
    "\n",
    "As an excersise, you could try changing the code above so that it repeates the analysis for a different pair of \"unobserved\" domains, rather than \"Speed\" and \"Pitch\". How about \"Shape\" and \"Pitch\"? \n",
    "\n",
    "The remainder of this notebook shows how to take the basic ideas from above and turn them into a piece of code that computes a prediction for every pair of unobserved domains. \n",
    "\n",
    "--------------------\n",
    "\n"
   ]
  },
  {
   "cell_type": "markdown",
   "metadata": {},
   "source": [
    "### 3: Beyond Size and Pitch: A General Prediction Procedure (Advanced)\n",
    "\n",
    "Of course, this general idea is not specific to the domains in the example (Size, Pitch, Affect). Generalising, we can say that if two variables X (e.g. Size) and Y (e.g. Pitch) are assosciated strongly (one way or another) with a third variable Z (e.g. Affect), then we may be able to make a good guess about the relationship betwen X and Y (Size and Pitch). \n",
    "\n",
    "Crucially, since we have the Affect data, we can make predictions in this manner for any domains which we tested with affect. This let's us make predictions about all possible domain pairs (because we tested every domain with Affect in the Affect data) before collecting data. These predictions can then be tested against the experimental data we eventually colect for all domains.\n",
    "\n",
    "Moreover, after we've collected all the experimental data, we can post-hoc ask the question: which single domain is the best predictor of all the remaining assosciations? In other words, we will eventually be able to pretend that each domain is the only domain we've collected, re-run the imputation procedure outlined in this notebook, and test the predictions against the data we collected. "
   ]
  },
  {
   "cell_type": "markdown",
   "metadata": {},
   "source": [
    "###### 3.1: A few useful data pre-procesing steps\n",
    "\n",
    "These utilities are for data procesing pursposes."
   ]
  },
  {
   "cell_type": "code",
   "execution_count": 7,
   "metadata": {},
   "outputs": [
    {
     "name": "stdout",
     "output_type": "stream",
     "text": [
      "['Affect PD-Pitch' 'Affect HS-Pitch' 'Affect EB-Speed' 'Affect SC-Amp'\n",
      " 'Affect SC-Brightness' 'Affect HS-Amp' 'Affect PD-Noise' 'Affect SC-Shape'\n",
      " 'Affect EB-Pitch' 'Affect PD-Brightness' 'Affect EB-Color YB'\n",
      " 'Affect EB-Amp' 'Affect HS-Noise' 'Affect SC-Color YB' 'Affect SC-Size'\n",
      " 'Affect PD-Shape' 'Affect PD-Size' 'Affect SC-Speed' 'Affect PD-Amp'\n",
      " 'Affect HS-Shape' 'Affect HS-Size' 'Affect HS-Speed' 'Affect EB-Size'\n",
      " 'Affect EB-Noise' 'Affect HS-Color YB' 'Affect EB-Brightness'\n",
      " 'Affect HS-Brightness' 'Affect PD-Color YB' 'Affect PD-Speed'\n",
      " 'Affect EB-Shape' 'Affect SC-Noise' 'Affect SC-Pitch' 'Affect SC-Color RY'\n",
      " 'Affect EB-Color RY' 'Affect HS-Color RY' 'Affect PD-Color RY'\n",
      " 'Affect EB-Color RB' 'Affect SC-Color RB' 'Affect PD-Color RB'\n",
      " 'Affect HS-Color RB' 'Affect EB-Color RG' 'Affect SC-Color RG'\n",
      " 'Affect PD-Color RG' 'Affect HS-Color RG']\n"
     ]
    }
   ],
   "source": [
    "# it will be useful later to have a list of the affect-related domain compairsons\n",
    "# calling .unique() on any pandas column returns a list of the unique values present in that column\n",
    "affect_comparisons = affect_data.Comparison.unique()\n",
    "\n",
    "# and let's have a look at those unique comparisons!\n",
    "print affect_comparisons"
   ]
  },
  {
   "cell_type": "code",
   "execution_count": 8,
   "metadata": {
    "collapsed": true
   },
   "outputs": [],
   "source": [
    "# since we're always dealing with Affect related comparisons, it will also be useful...\n",
    "# ...to have a column which specifies what the \"comparison\" domain is (e.g. Pitch)\n",
    "def get_comparitor(row):\n",
    "    c = row['Comparison']\n",
    "    a,b = c.split('-')\n",
    "    if 'Affect' in a:\n",
    "        return b\n",
    "    return a\n",
    "\n",
    "# The Pandas \".apply\" method allows us to apply any function row-wise...\n",
    "# ...to our data very easily. Here we're creating a column called \"comparitor\"...\n",
    "# ...which is filled by calling the function \"get2d\" on each row, and catching the results.\n",
    "affect_data['comparitor'] = affect_data.apply(get_comparitor, axis = 1)"
   ]
  },
  {
   "cell_type": "markdown",
   "metadata": {},
   "source": [
    "###### 3.2: Making Predictions!\n",
    "\n",
    "Alan has pre-hoc made predictions abut the relatiopnships we should find among domains. These predictions are in `../data/Predictions.csv`. We can add our \"Affect-Imputed\" predictions directly in to this same dataframe.\n",
    "\n",
    "###### 3.2.1: Making Binary Predictions\n",
    "\n",
    "Let's first make the same binary prediction as above but for all unobserved domain-pairs."
   ]
  },
  {
   "cell_type": "code",
   "execution_count": 11,
   "metadata": {},
   "outputs": [
    {
     "data": {
      "text/html": [
       "<div>\n",
       "<style>\n",
       "    .dataframe thead tr:only-child th {\n",
       "        text-align: right;\n",
       "    }\n",
       "\n",
       "    .dataframe thead th {\n",
       "        text-align: left;\n",
       "    }\n",
       "\n",
       "    .dataframe tbody tr th {\n",
       "        vertical-align: top;\n",
       "    }\n",
       "</style>\n",
       "<table border=\"1\" class=\"dataframe\">\n",
       "  <thead>\n",
       "    <tr style=\"text-align: right;\">\n",
       "      <th></th>\n",
       "      <th>Unnamed: 0</th>\n",
       "      <th>Comparison</th>\n",
       "      <th>Prediction</th>\n",
       "      <th>MagSym</th>\n",
       "      <th>Same1</th>\n",
       "    </tr>\n",
       "  </thead>\n",
       "  <tbody>\n",
       "    <tr>\n",
       "      <th>0</th>\n",
       "      <td>1</td>\n",
       "      <td>Affect EB-Amp</td>\n",
       "      <td>1</td>\n",
       "      <td>1</td>\n",
       "      <td>1</td>\n",
       "    </tr>\n",
       "    <tr>\n",
       "      <th>1</th>\n",
       "      <td>2</td>\n",
       "      <td>Affect EB-Brightness</td>\n",
       "      <td>1</td>\n",
       "      <td>1</td>\n",
       "      <td>1</td>\n",
       "    </tr>\n",
       "    <tr>\n",
       "      <th>2</th>\n",
       "      <td>3</td>\n",
       "      <td>Affect EB-Color RB</td>\n",
       "      <td>1</td>\n",
       "      <td>1</td>\n",
       "      <td>1</td>\n",
       "    </tr>\n",
       "    <tr>\n",
       "      <th>3</th>\n",
       "      <td>4</td>\n",
       "      <td>Affect EB-Color RG</td>\n",
       "      <td>0</td>\n",
       "      <td>1</td>\n",
       "      <td>0</td>\n",
       "    </tr>\n",
       "    <tr>\n",
       "      <th>4</th>\n",
       "      <td>5</td>\n",
       "      <td>Affect EB-Color RY</td>\n",
       "      <td>1</td>\n",
       "      <td>1</td>\n",
       "      <td>1</td>\n",
       "    </tr>\n",
       "  </tbody>\n",
       "</table>\n",
       "</div>"
      ],
      "text/plain": [
       "   Unnamed: 0            Comparison  Prediction  MagSym  Same1\n",
       "0           1         Affect EB-Amp           1       1      1\n",
       "1           2  Affect EB-Brightness           1       1      1\n",
       "2           3    Affect EB-Color RB           1       1      1\n",
       "3           4    Affect EB-Color RG           0       1      0\n",
       "4           5    Affect EB-Color RY           1       1      1"
      ]
     },
     "execution_count": 11,
     "metadata": {},
     "output_type": "execute_result"
    }
   ],
   "source": [
    "import numpy as np\n",
    "\n",
    "# read in alan's pre-computed predictions\n",
    "predictions = pd.read_csv('Predictions.csv')\n",
    "\n",
    "# let's have a quick look at the first few rows of the data to familiarise ourself wth the dataset\n",
    "predictions.head(5)"
   ]
  },
  {
   "cell_type": "markdown",
   "metadata": {},
   "source": [
    "The general idea here is to loop over every row of the predictions dataframe (every row contains a unique domain-pair), and add our prediction to that row. Pandas dataframe have a really useful functionality -- dataframe.apply -- which allows us to write a function which will be applied to every row, and populate a new column with the results.   "
   ]
  },
  {
   "cell_type": "code",
   "execution_count": 12,
   "metadata": {
    "collapsed": true
   },
   "outputs": [],
   "source": [
    "# This is a function which recieves a subset of a dataframe...\n",
    "# ...and returns the mean consistency of responses in this datachunk\n",
    "def predict(datachunk):\n",
    "    return datachunk.Response.mean()\n",
    "\n",
    "# This is the function we wish to apply to every row of our dataframe to make predictions.\n",
    "def impute_binary(row):\n",
    "    \n",
    "    # which domain comparison are we dealing with?\n",
    "    comparison = row['Comparison']\n",
    "    d1, d2 = comparison.split('-')\n",
    "    \n",
    "    # Is this domain comparison one of the \"observed\" Affect assosciations?\n",
    "    # If it is, we don't need to go looking for second order relatiopnships...\n",
    "    # ...we just need to estimate the mean \"consistency\" in the afect data\n",
    "    if ('Affect' in d1) or ('Affect' in d2):\n",
    "    \n",
    "        # do we need to reverse the domains?\n",
    "        if not comparison in affect_comparisons: \n",
    "            comparison = '-'.join(comparison.split('-')[::-1])\n",
    "        \n",
    "        return 1 if predict(affect_data[affect_data.Comparison == comparison]) > .5 else 0\n",
    "    \n",
    "    # find all assosciations with d1, and compute the mean consistency\n",
    "    prediction_d1 = predict(affect_data[affect_data.comparitor == d1])\n",
    "    \n",
    "    # find all assosciations with d1, and compute the mean consistency\n",
    "    prediction_d2 = predict(affect_data[affect_data.comparitor == d2])\n",
    "    \n",
    "    # calculate mean consistency and make a decision whether to predict consistent (1) or inconsistent (0)\n",
    "    mean_prediction = np.mean([prediction_d1, prediction_d2])\n",
    "    return 1 if mean_prediction > .5 else 0\n",
    "        \n",
    "\n",
    "# we want to create a new column in our dataframe called \"ImputedPrediction\"\n",
    "# we can achieve this by applying our function \"impute_binary\" to every row of the \"Predictions\" dataset...\n",
    "# ...using the \"apply\" functionality of a Pandas dataframe.\n",
    "predictions['ImputedPrediction'] = predictions.apply(impute_binary, axis = 1)"
   ]
  },
  {
   "cell_type": "markdown",
   "metadata": {
    "collapsed": true
   },
   "source": [
    "Now let's have a quick look at the predictions our routine has made and added to the dataset \"predictions\"."
   ]
  },
  {
   "cell_type": "code",
   "execution_count": 13,
   "metadata": {},
   "outputs": [
    {
     "data": {
      "text/html": [
       "<div>\n",
       "<style>\n",
       "    .dataframe thead tr:only-child th {\n",
       "        text-align: right;\n",
       "    }\n",
       "\n",
       "    .dataframe thead th {\n",
       "        text-align: left;\n",
       "    }\n",
       "\n",
       "    .dataframe tbody tr th {\n",
       "        vertical-align: top;\n",
       "    }\n",
       "</style>\n",
       "<table border=\"1\" class=\"dataframe\">\n",
       "  <thead>\n",
       "    <tr style=\"text-align: right;\">\n",
       "      <th></th>\n",
       "      <th>Unnamed: 0</th>\n",
       "      <th>Comparison</th>\n",
       "      <th>Prediction</th>\n",
       "      <th>MagSym</th>\n",
       "      <th>Same1</th>\n",
       "      <th>ImputedPrediction</th>\n",
       "    </tr>\n",
       "  </thead>\n",
       "  <tbody>\n",
       "    <tr>\n",
       "      <th>0</th>\n",
       "      <td>1</td>\n",
       "      <td>Affect EB-Amp</td>\n",
       "      <td>1</td>\n",
       "      <td>1</td>\n",
       "      <td>1</td>\n",
       "      <td>1</td>\n",
       "    </tr>\n",
       "    <tr>\n",
       "      <th>1</th>\n",
       "      <td>2</td>\n",
       "      <td>Affect EB-Brightness</td>\n",
       "      <td>1</td>\n",
       "      <td>1</td>\n",
       "      <td>1</td>\n",
       "      <td>1</td>\n",
       "    </tr>\n",
       "    <tr>\n",
       "      <th>2</th>\n",
       "      <td>3</td>\n",
       "      <td>Affect EB-Color RB</td>\n",
       "      <td>1</td>\n",
       "      <td>1</td>\n",
       "      <td>1</td>\n",
       "      <td>1</td>\n",
       "    </tr>\n",
       "    <tr>\n",
       "      <th>3</th>\n",
       "      <td>4</td>\n",
       "      <td>Affect EB-Color RG</td>\n",
       "      <td>0</td>\n",
       "      <td>1</td>\n",
       "      <td>0</td>\n",
       "      <td>0</td>\n",
       "    </tr>\n",
       "    <tr>\n",
       "      <th>4</th>\n",
       "      <td>5</td>\n",
       "      <td>Affect EB-Color RY</td>\n",
       "      <td>1</td>\n",
       "      <td>1</td>\n",
       "      <td>1</td>\n",
       "      <td>0</td>\n",
       "    </tr>\n",
       "  </tbody>\n",
       "</table>\n",
       "</div>"
      ],
      "text/plain": [
       "   Unnamed: 0            Comparison  Prediction  MagSym  Same1  \\\n",
       "0           1         Affect EB-Amp           1       1      1   \n",
       "1           2  Affect EB-Brightness           1       1      1   \n",
       "2           3    Affect EB-Color RB           1       1      1   \n",
       "3           4    Affect EB-Color RG           0       1      0   \n",
       "4           5    Affect EB-Color RY           1       1      1   \n",
       "\n",
       "   ImputedPrediction  \n",
       "0                  1  \n",
       "1                  1  \n",
       "2                  1  \n",
       "3                  0  \n",
       "4                  0  "
      ]
     },
     "execution_count": 13,
     "metadata": {},
     "output_type": "execute_result"
    }
   ],
   "source": [
    "predictions.head()"
   ]
  },
  {
   "cell_type": "markdown",
   "metadata": {},
   "source": [
    "Interesting. Notice that our predictions imputed from the Affect data (\"ImputedPrediction\") sometimes match Alan's predictions (\"Prediction\"), but sometimes don't. Let's have a look at how often they match versus diverge by checking equivelance between the \"Prediction\" and the \"ImputedPrediction\" columns, and taking the computing the mean (average agreement). "
   ]
  },
  {
   "cell_type": "code",
   "execution_count": 14,
   "metadata": {},
   "outputs": [
    {
     "data": {
      "text/plain": [
       "0.72043010752688175"
      ]
     },
     "execution_count": 14,
     "metadata": {},
     "output_type": "execute_result"
    }
   ],
   "source": [
    "# ImputedPrediction matches Alan's predictions around 70% of the time\n",
    "(predictions.Prediction == predictions.ImputedPrediction).mean()"
   ]
  },
  {
   "cell_type": "markdown",
   "metadata": {},
   "source": [
    "We can also checkhow often our imputed predictions match the Magnitude Symbolism predictions simply by asking what proportion of tht time we are predicting \"1\"s (consistent relationships), becase magnitude symbolism always predicts what we are calling \"consistent\" realtionships (\"1\"s). "
   ]
  },
  {
   "cell_type": "code",
   "execution_count": 15,
   "metadata": {},
   "outputs": [
    {
     "data": {
      "text/plain": [
       "0.80645161290322576"
      ]
     },
     "execution_count": 15,
     "metadata": {},
     "output_type": "execute_result"
    }
   ],
   "source": [
    "# Our predictions match the Magnitude Symbolism predictions around 80% of the time\n",
    "(predictions.ImputedPrediction == 1).mean()"
   ]
  },
  {
   "cell_type": "markdown",
   "metadata": {},
   "source": [
    "###### 2.3.1: Making Graded Predictions\n",
    "\n",
    "Here, the procedure above is replicated exactly but with a single change: instead of making a decision whether to predict a binary consistent (High --> High, 1) or inconsistent (High --> Low, 0) value (by looking at whether the mean assosciation is larger than .5), we instead simply use the mean proportion of consistent responses as our prediction. \n",
    "\n",
    "See if you can spot the difference between our previous function (impute_binary) and our new function (impute_mean). "
   ]
  },
  {
   "cell_type": "code",
   "execution_count": 16,
   "metadata": {
    "collapsed": true
   },
   "outputs": [],
   "source": [
    "def impute_mean(row):\n",
    "    comparison = row['Comparison']\n",
    "    d1, d2 = comparison.split('-')\n",
    "    \n",
    "    if ('Affect' in d1) or ('Affect' in d2):\n",
    "        if not comparison in affect_comparisons:\n",
    "            comparison = '-'.join(comparison.split('-')[::-1])\n",
    "        \n",
    "        return predict(affect_data[affect_data.Comparison == comparison])\n",
    "    \n",
    "    prediction_d1 = predict(affect_data[affect_data.comparitor == d1])\n",
    "    prediction_d2 = predict(affect_data[affect_data.comparitor == d2])\n",
    "    mean_prediction = np.mean([prediction_d1, prediction_d2])\n",
    "    return mean_prediction\n",
    "\n",
    "predictions['ImputedMean'] = predictions.apply(impute_mean, axis = 1)"
   ]
  },
  {
   "cell_type": "markdown",
   "metadata": {},
   "source": [
    "Now we have a predicted probability of a \"consistent\" response for all domain-pairs. Let's have a look at the distribution of predicted mean probabilities. We can do this using the \"hist\" function of a pandas dataframe, which plots a histogram of all values in a column."
   ]
  },
  {
   "cell_type": "code",
   "execution_count": 17,
   "metadata": {},
   "outputs": [
    {
     "data": {
      "text/plain": [
       "<matplotlib.axes._subplots.AxesSubplot at 0x10c8bb290>"
      ]
     },
     "execution_count": 17,
     "metadata": {},
     "output_type": "execute_result"
    },
    {
     "data": {
      "image/png": "[encoded data removed]",
      "text/plain": [
       "<matplotlib.figure.Figure at 0x10c894a50>"
      ]
     },
     "metadata": {},
     "output_type": "display_data"
    }
   ],
   "source": [
    "# tell the notebook to display figures inline\n",
    "%matplotlib inline \n",
    "\n",
    "# plot a histogram of predicted probabilities\n",
    "predictions.ImputedMean.hist()"
   ]
  },
  {
   "cell_type": "markdown",
   "metadata": {},
   "source": [
    "So just eyeballing the distribution of predicted means, it looks like there's a skew towards \"consistent\" relationships (more estimate above .5 than below .5). We can also visualise the predicted probabilities in order, using the Seaborn plotting library:"
   ]
  },
  {
   "cell_type": "code",
   "execution_count": 18,
   "metadata": {},
   "outputs": [
    {
     "data": {
      "text/plain": [
       "([<matplotlib.axis.XTick at 0x10e981450>,\n",
       "  <matplotlib.axis.XTick at 0x10e998350>,\n",
       "  <matplotlib.axis.XTick at 0x10e9ee310>],\n",
       " <a list of 3 Text xticklabel objects>)"
      ]
     },
     "execution_count": 18,
     "metadata": {},
     "output_type": "execute_result"
    },
    {
     "data": {
      "image/png": "[encoded data removed]",
      "text/plain": [
       "<matplotlib.figure.Figure at 0x10e8d99d0>"
      ]
     },
     "metadata": {},
     "output_type": "display_data"
    }
   ],
   "source": [
    "import seaborn as sns\n",
    "\n",
    "# set some paraeter for how the plot will look\n",
    "sns.set(font_scale = .9, style = 'whitegrid')\n",
    "\n",
    "# compute the sorted order (highgest to lowest) of the comparisons (by mean)\n",
    "plotting_order = predictions.sort_values(by = 'ImputedMean', ascending = False).Comparison.values\n",
    "\n",
    "# make a bar plot using seaborn's \"factorplot\" function\n",
    "g = sns.factorplot(data = predictions, x = 'ImputedMean', y = 'Comparison', order = plotting_order, kind = 'bar', size = 20, aspect = .5)\n",
    "\n",
    "# remove unwanted gridlines and dra a line at 0, 0.5, and 1 (this is just stylistic)\n",
    "sns.despine(left = True, bottom = True)\n",
    "sns.plt.xticks([0,.5,1])"
   ]
  },
  {
   "cell_type": "markdown",
   "metadata": {},
   "source": [
    "And finally let's save our predictions to a new dataframe, which we'll call \"ImputedData.csv\":"
   ]
  },
  {
   "cell_type": "code",
   "execution_count": 20,
   "metadata": {},
   "outputs": [],
   "source": [
    "predictions.to_csv('ImputedPredictions.csv')"
   ]
  },
  {
   "cell_type": "code",
   "execution_count": null,
   "metadata": {
    "collapsed": true
   },
   "outputs": [],
   "source": []
  }
 ],
 "metadata": {
  "kernelspec": {
   "display_name": "Python 2",
   "language": "python",
   "name": "python2"
  },
  "language_info": {
   "codemirror_mode": {
    "name": "ipython",
    "version": 2
   },
   "file_extension": ".py",
   "mimetype": "text/x-python",
   "name": "python",
   "nbconvert_exporter": "python",
   "pygments_lexer": "ipython2",
   "version": "2.7.11"
  }
 },
 "nbformat": 4,
 "nbformat_minor": 2
}
