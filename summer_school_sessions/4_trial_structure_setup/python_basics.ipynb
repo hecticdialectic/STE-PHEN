{
 "cells": [
  {
   "cell_type": "markdown",
   "metadata": {},
   "source": [
    "# Intro to basic python"
   ]
  },
  {
   "cell_type": "markdown",
   "metadata": {},
   "source": [
    "Python is a widely-used programming language for general-purpose programming (i.e. unlike R, which is more specific).\n",
    "\n",
    "This very basic tutorial aims to show you what Python *looks* like, so that you can identify it's structures. It will also help you on the road to using Python, if you are a beginner. But it will probably not get you writing your own scripts *just yet*...\n",
    "\n",
    "If you know another programming language, like R or JavaScript, this tutorial is designed to help you recognise the ways in which Python is written differently to those languages."
   ]
  },
  {
   "cell_type": "markdown",
   "metadata": {},
   "source": [
    "### At it's most basic..."
   ]
  },
  {
   "cell_type": "markdown",
   "metadata": {},
   "source": [
    "Python can print text"
   ]
  },
  {
   "cell_type": "code",
   "execution_count": 1,
   "metadata": {},
   "outputs": [
    {
     "name": "stdout",
     "output_type": "stream",
     "text": [
      "Hello!\n"
     ]
    }
   ],
   "source": [
    "print \"Hello!\""
   ]
  },
  {
   "cell_type": "markdown",
   "metadata": {},
   "source": [
    "And be used as a calculator"
   ]
  },
  {
   "cell_type": "code",
   "execution_count": 2,
   "metadata": {},
   "outputs": [
    {
     "data": {
      "text/plain": [
       "4"
      ]
     },
     "execution_count": 2,
     "metadata": {},
     "output_type": "execute_result"
    }
   ],
   "source": [
    "2 + 2"
   ]
  },
  {
   "cell_type": "markdown",
   "metadata": {},
   "source": [
    "But we mostly use it for more complicated tasks, like automating processes."
   ]
  },
  {
   "cell_type": "markdown",
   "metadata": {},
   "source": [
    "### Variables"
   ]
  },
  {
   "cell_type": "markdown",
   "metadata": {},
   "source": [
    "Variables can be used to hold information you want to use later, or use repeatedly.\n",
    "Variables can be numbers or text (strings), or the output from other functions (as you will see later on)."
   ]
  },
  {
   "cell_type": "code",
   "execution_count": 3,
   "metadata": {
    "collapsed": true
   },
   "outputs": [],
   "source": [
    "# This is a comment: it let's you put text to explain your code, that isn't read when your code runs\n",
    "# I will use these comments in code cells, to let you know what the code does\n",
    "# let's name a variable\n",
    "\n",
    "var = 5"
   ]
  },
  {
   "cell_type": "markdown",
   "metadata": {},
   "source": [
    "Variable names should start with a letter or underscore (not a number) and they are case sensitive. You should avoid reusing variable names for variables you've already named, and you should avoid giving variables the same names as functions!\n",
    "\n",
    "i.e. ```a_list = list()``` is fine <br>\n",
    "    but ```list = list()``` is not!"
   ]
  },
  {
   "cell_type": "code",
   "execution_count": 5,
   "metadata": {},
   "outputs": [
    {
     "data": {
      "text/plain": [
       "10"
      ]
     },
     "execution_count": 5,
     "metadata": {},
     "output_type": "execute_result"
    }
   ],
   "source": [
    "# let's use this variable\n",
    "var * 2"
   ]
  },
  {
   "cell_type": "markdown",
   "metadata": {},
   "source": [
    "### Built-in functions and modules"
   ]
  },
  {
   "cell_type": "markdown",
   "metadata": {},
   "source": [
    "Python has a lot of built in functions, that can be used in a wide range of contexts."
   ]
  },
  {
   "cell_type": "markdown",
   "metadata": {},
   "source": [
    "For example, the ```range(number)``` function returns a list from 0 to the number you have put in."
   ]
  },
  {
   "cell_type": "code",
   "execution_count": 6,
   "metadata": {},
   "outputs": [
    {
     "data": {
      "text/plain": [
       "[0, 1, 2, 3]"
      ]
     },
     "execution_count": 6,
     "metadata": {},
     "output_type": "execute_result"
    }
   ],
   "source": [
    "# e.g.\n",
    "\n",
    "range(4)"
   ]
  },
  {
   "cell_type": "markdown",
   "metadata": {},
   "source": [
    "So this returns a list of 4 elements, starting from 0. Python numbering starts from 0, not from 1 - this is important to remember!"
   ]
  },
  {
   "cell_type": "markdown",
   "metadata": {},
   "source": [
    "Here is the [documentation](https://docs.python.org/2/library/functions.html) for the built-in functions. [Here](http://archive.oreilly.com/oreillyschool/courses/Python1/Python1-10.html) is a clearer demonstration of some of these functions\n",
    "\n",
    "Feel free to play around and try them out below."
   ]
  },
  {
   "cell_type": "code",
   "execution_count": null,
   "metadata": {
    "collapsed": true
   },
   "outputs": [],
   "source": [
    "# play around here!\n",
    "\n"
   ]
  },
  {
   "cell_type": "markdown",
   "metadata": {},
   "source": [
    "You can also import modules or libraries that have more specific capabilities. For example, there are statistical libraries, plotting libraries, image manipulation libraries, web scraping libraries - just to name a few!"
   ]
  },
  {
   "cell_type": "code",
   "execution_count": 7,
   "metadata": {
    "collapsed": true
   },
   "outputs": [],
   "source": [
    "# import a library/module\n",
    "# below I am importing numpy, which provides capabilities to create large scale matrices\n",
    "# and run calculations/computations across these matrices\n",
    "import numpy as np"
   ]
  },
  {
   "cell_type": "code",
   "execution_count": 8,
   "metadata": {},
   "outputs": [
    {
     "data": {
      "text/plain": [
       "array([ 5.53096402,  4.4747472 ,  7.96425094,  3.61929611,  3.80790371,\n",
       "        6.85344361,  5.5939397 ,  3.02159882,  6.43067094,  6.58581418])"
      ]
     },
     "execution_count": 8,
     "metadata": {},
     "output_type": "execute_result"
    }
   ],
   "source": [
    "# e.g.\n",
    "# the random.normal function randomly samples from the normal distribution\n",
    "# takes as input the mean and SD, and the size of the sample you want it to return\n",
    "np.random.normal(5, 2, 10)"
   ]
  },
  {
   "cell_type": "markdown",
   "metadata": {},
   "source": [
    "### List comprehension"
   ]
  },
  {
   "cell_type": "markdown",
   "metadata": {},
   "source": [
    "The use of lists and arrays (i.e. fancy lists) are very important in Python."
   ]
  },
  {
   "cell_type": "markdown",
   "metadata": {},
   "source": [
    "A list looks like this:\n",
    "\n",
    "```\n",
    "alist = [0,1,2,3]\n",
    "```\n",
    "\n",
    "You can save numbers, text, variables etc. to a list.\n",
    "e.g.\n",
    "\n",
    "```\n",
    "list_of_names = ['Yasamin','Alan','Bill','Hannah']\n",
    "```"
   ]
  },
  {
   "cell_type": "code",
   "execution_count": 8,
   "metadata": {},
   "outputs": [
    {
     "name": "stdout",
     "output_type": "stream",
     "text": [
      "['Y', 'a', 's', 'a', 'm', 'i', 'n']\n",
      "['Y', 'a', 's', 'a', 'm', 'i', 'n']\n"
     ]
    }
   ],
   "source": [
    "# you can make a list in 2 ways\n",
    "\n",
    "# using the list function \n",
    "# note this converts the parts of the input into the list elements\n",
    "method1 = list('Yasamin')\n",
    "\n",
    "# this prints the list variable we just created below this cell\n",
    "print method1\n",
    "\n",
    "# or you can write your own list\n",
    "\n",
    "method2 = ['Y','a','s','a','m','i','n']\n",
    "print method2"
   ]
  },
  {
   "cell_type": "markdown",
   "metadata": {},
   "source": [
    "One of the reasons that lists are so important, is that you can index individual items in the list."
   ]
  },
  {
   "cell_type": "code",
   "execution_count": 52,
   "metadata": {},
   "outputs": [
    {
     "data": {
      "text/plain": [
       "'Yasamin'"
      ]
     },
     "execution_count": 52,
     "metadata": {},
     "output_type": "execute_result"
    }
   ],
   "source": [
    "list_of_names = ['Yasamin', 'Alan', 'Bill', 'Hannah']\n",
    "\n",
    "# 0 calls the first element in the list (remember, Python starts at 0!)\n",
    "list_of_names[0]"
   ]
  },
  {
   "cell_type": "code",
   "execution_count": 53,
   "metadata": {},
   "outputs": [
    {
     "name": "stdout",
     "output_type": "stream",
     "text": [
      "Yasamin!\n"
     ]
    }
   ],
   "source": [
    "print list_of_names[0] + '!'"
   ]
  },
  {
   "cell_type": "markdown",
   "metadata": {},
   "source": [
    "There are a lot of basic functions that can be performed on lists. Below are some examples."
   ]
  },
  {
   "cell_type": "code",
   "execution_count": 54,
   "metadata": {},
   "outputs": [
    {
     "data": {
      "text/plain": [
       "4"
      ]
     },
     "execution_count": 54,
     "metadata": {},
     "output_type": "execute_result"
    }
   ],
   "source": [
    "# find the length of the list\n",
    "\n",
    "len(list_of_names)"
   ]
  },
  {
   "cell_type": "code",
   "execution_count": 39,
   "metadata": {},
   "outputs": [
    {
     "name": "stdout",
     "output_type": "stream",
     "text": [
      "['Yasamin', 'Alan', 'Bill', 'Hannah', 'Ashley']\n"
     ]
    }
   ],
   "source": [
    "# add something new to the end of a list\n",
    "\n",
    "list_of_names.append('Ashley')\n",
    "\n",
    "print list_of_names"
   ]
  },
  {
   "cell_type": "code",
   "execution_count": 40,
   "metadata": {},
   "outputs": [
    {
     "name": "stdout",
     "output_type": "stream",
     "text": [
      "['Yasamin', 'Bill', 'Hannah', 'Ashley']\n"
     ]
    }
   ],
   "source": [
    "# remove something from the list\n",
    "\n",
    "list_of_names.remove('Alan')\n",
    "\n",
    "print list_of_names"
   ]
  },
  {
   "cell_type": "code",
   "execution_count": 42,
   "metadata": {},
   "outputs": [
    {
     "data": {
      "text/plain": [
       "'Yasamin'"
      ]
     },
     "execution_count": 42,
     "metadata": {},
     "output_type": "execute_result"
    }
   ],
   "source": [
    "# the pop method\n",
    "# this removes an item from the list, and returns it as a value\n",
    "\n",
    "list_of_names.pop(0)\n"
   ]
  },
  {
   "cell_type": "code",
   "execution_count": 43,
   "metadata": {},
   "outputs": [
    {
     "data": {
      "text/plain": [
       "['Bill', 'Hannah', 'Ashley']"
      ]
     },
     "execution_count": 43,
     "metadata": {},
     "output_type": "execute_result"
    }
   ],
   "source": [
    "# see? I've been kicked off the list\n",
    "list_of_names"
   ]
  },
  {
   "cell_type": "code",
   "execution_count": 45,
   "metadata": {},
   "outputs": [
    {
     "name": "stdout",
     "output_type": "stream",
     "text": [
      "['Ashley', 'Bill', 'Hannah']\n"
     ]
    }
   ],
   "source": [
    "# sort the list (alphabetically)\n",
    "\n",
    "list_of_names.sort()\n",
    "\n",
    "print list_of_names"
   ]
  },
  {
   "cell_type": "code",
   "execution_count": 47,
   "metadata": {},
   "outputs": [
    {
     "name": "stdout",
     "output_type": "stream",
     "text": [
      "2\n"
     ]
    }
   ],
   "source": [
    "# find the index of an item in the list\n",
    "# Hannah is the 3rd element in the list, but Python starts from 0, so her index will be 2\n",
    "print list_of_names.index('Hannah')"
   ]
  },
  {
   "cell_type": "markdown",
   "metadata": {},
   "source": [
    "You can use some functions to manipulate multiple lists together.\n",
    "e.g. the ```zip()``` function.\n",
    "\n",
    "With ```zip(list1, list2)``` you can match up the *n*th element with list1 with the *n*th element in list2"
   ]
  },
  {
   "cell_type": "code",
   "execution_count": 2,
   "metadata": {},
   "outputs": [
    {
     "data": {
      "text/plain": [
       "[('a', 1), ('b', 2), ('c', 3)]"
      ]
     },
     "execution_count": 2,
     "metadata": {},
     "output_type": "execute_result"
    }
   ],
   "source": [
    "# e.g.\n",
    "\n",
    "list_letters = ['a','b','c']\n",
    "list_numbers = [1,2,3]\n",
    "\n",
    "zip(list_letters, list_numbers)"
   ]
  },
  {
   "cell_type": "markdown",
   "metadata": {},
   "source": [
    "Lists can also be made up of other lists!"
   ]
  },
  {
   "cell_type": "code",
   "execution_count": 48,
   "metadata": {
    "collapsed": true
   },
   "outputs": [],
   "source": [
    "# e.g.\n",
    "\n",
    "# we have three lists of paired names, grouped into 1 big list\n",
    "\n",
    "list_in_list = [['Yasamin', 'Alan'], ['Bill', 'Justin'], ['Ashley', 'Hannah']]\n"
   ]
  },
  {
   "cell_type": "code",
   "execution_count": 49,
   "metadata": {},
   "outputs": [
    {
     "data": {
      "text/plain": [
       "['Yasamin', 'Alan']"
      ]
     },
     "execution_count": 49,
     "metadata": {},
     "output_type": "execute_result"
    }
   ],
   "source": [
    "# in this case, each individual list is an element in the big list\n",
    "\n",
    "list_in_list[0]"
   ]
  },
  {
   "cell_type": "code",
   "execution_count": 50,
   "metadata": {},
   "outputs": [
    {
     "name": "stdout",
     "output_type": "stream",
     "text": [
      "Yasamin\n",
      "Bill\n"
     ]
    }
   ],
   "source": [
    "# and then the list of pairs (the sublists) contain their own elements\n",
    "\n",
    "print list_in_list[0][0]\n",
    "print list_in_list[1][0]"
   ]
  },
  {
   "cell_type": "markdown",
   "metadata": {},
   "source": [
    "Feel free to play around with lists in the box below."
   ]
  },
  {
   "cell_type": "code",
   "execution_count": null,
   "metadata": {
    "collapsed": true
   },
   "outputs": [],
   "source": [
    "# play around here\n",
    "\n"
   ]
  },
  {
   "cell_type": "markdown",
   "metadata": {},
   "source": [
    "### Dictionaries"
   ]
  },
  {
   "cell_type": "markdown",
   "metadata": {},
   "source": [
    "Dictionaries are another data type in Python. They are a little bit like lists, but differ in several ways.\n",
    "Principally, where the elements in a list are indexed  by numbers, the elements in a dictionary are indexed by keys, that you can set.\n",
    "\n",
    "Dictionaries use curly brackets, {}.\n",
    "\n",
    "They take the form {x: y}, where x is the key, and y is the value."
   ]
  },
  {
   "cell_type": "code",
   "execution_count": 11,
   "metadata": {},
   "outputs": [
    {
     "name": "stdout",
     "output_type": "stream",
     "text": [
      "{'Bill': 7, 'Yasamin': 10, 'Alan': 2}\n",
      "{'Bill': 7, 'Yasamin': 10, 'Alan': 2}\n"
     ]
    }
   ],
   "source": [
    "# you can make dictionaries in 2 ways\n",
    "\n",
    "# by writing it out with curly brackets\n",
    "\n",
    "dict_method1 = {'Yasamin': 10, 'Bill': 7, 'Alan': 2}\n",
    "\n",
    "print dict_method1\n",
    "\n",
    "# or by using the dict() constructor with a list of key-value pairs\n",
    "dict_method2 = dict([('Yasamin', 10), ('Bill', 7), ('Alan',2)])\n",
    "\n",
    "print dict_method2"
   ]
  },
  {
   "cell_type": "markdown",
   "metadata": {},
   "source": [
    "With a dictionary, you can use the keys to index the values."
   ]
  },
  {
   "cell_type": "code",
   "execution_count": 12,
   "metadata": {},
   "outputs": [
    {
     "data": {
      "text/plain": [
       "10"
      ]
     },
     "execution_count": 12,
     "metadata": {},
     "output_type": "execute_result"
    }
   ],
   "source": [
    "# e.g.\n",
    "\n",
    "dict_method1['Yasamin']"
   ]
  },
  {
   "cell_type": "markdown",
   "metadata": {},
   "source": [
    "As with lists, you can store numbers and texts as values in dictionaries, or even lists."
   ]
  },
  {
   "cell_type": "code",
   "execution_count": 16,
   "metadata": {},
   "outputs": [],
   "source": [
    "# e.g. \n",
    "\n",
    "yasamin_dict = {'Name': 'Yasamin', 'Age': 27, 'Siblings': ['Taraneh', 'Parissa']}"
   ]
  },
  {
   "cell_type": "code",
   "execution_count": 23,
   "metadata": {},
   "outputs": [
    {
     "name": "stdout",
     "output_type": "stream",
     "text": [
      "My name is Yasamin\n",
      "I am 27 years old\n",
      "I have two sisters:  Taraneh and Parissa\n"
     ]
    }
   ],
   "source": [
    "print \"My name is\", yasamin_dict['Name']\n",
    "print \"I am\", yasamin_dict['Age'], \"years old\"\n",
    "# here I reference the first element in the value list to print Taraneh, and the 2nd to print Parissa\n",
    "print \"I have two sisters: \", yasamin_dict['Siblings'][0], 'and', yasamin_dict['Siblings'][1]"
   ]
  },
  {
   "cell_type": "markdown",
   "metadata": {},
   "source": [
    "You can separate a dictionary into keys and values, to use the items separately."
   ]
  },
  {
   "cell_type": "code",
   "execution_count": 26,
   "metadata": {},
   "outputs": [
    {
     "name": "stdout",
     "output_type": "stream",
     "text": [
      "['Bill', 'Yasamin', 'Alan']\n",
      "[7, 10, 2]\n"
     ]
    }
   ],
   "source": [
    "# e.g. \n",
    "\n",
    "print dict_method1.keys()\n",
    "print dict_method1.values()"
   ]
  },
  {
   "cell_type": "markdown",
   "metadata": {},
   "source": [
    "Feel free to play around with dictionaries below!"
   ]
  },
  {
   "cell_type": "code",
   "execution_count": null,
   "metadata": {
    "collapsed": true
   },
   "outputs": [],
   "source": [
    "# play around here!\n"
   ]
  },
  {
   "cell_type": "markdown",
   "metadata": {},
   "source": [
    "### For loops"
   ]
  },
  {
   "cell_type": "markdown",
   "metadata": {},
   "source": [
    "**For loops** are important in most programming languages, and Python is no exception.\n",
    "We use for loops when we want to repeat a particular instruction a certain number of times. It is called a for loop, because it normally takes the format:\n",
    "\n",
    "```for t in number_of_times:\n",
    "        carry out instruction\n",
    "```"
   ]
  },
  {
   "cell_type": "code",
   "execution_count": 13,
   "metadata": {
    "scrolled": true
   },
   "outputs": [
    {
     "name": "stdout",
     "output_type": "stream",
     "text": [
      "Look! I printed a number!   0\n",
      "Look! I printed a number!   1\n",
      "Look! I printed a number!   2\n",
      "Look! I printed a number!   3\n"
     ]
    }
   ],
   "source": [
    "# e.g. \n",
    "# this is a for loop\n",
    "# it loops through the instruction embedded in the loop\n",
    "# range(4) gives a list of 4 numbers: [0, 1, 2, 3]\n",
    "\n",
    "# so this for loop says\n",
    "# for each number in 0, 1, 2, 3\n",
    "# print some text and then the number\n",
    "for n in range(4):\n",
    "    print \"Look! I printed a number!  \", n"
   ]
  },
  {
   "cell_type": "markdown",
   "metadata": {},
   "source": [
    "Feel free to play around, and make up your own for loop below. You can print text, do calculations, etc."
   ]
  },
  {
   "cell_type": "code",
   "execution_count": null,
   "metadata": {
    "collapsed": true
   },
   "outputs": [],
   "source": [
    "# play around here\n",
    "\n"
   ]
  },
  {
   "cell_type": "markdown",
   "metadata": {},
   "source": [
    "### Functions"
   ]
  },
  {
   "cell_type": "markdown",
   "metadata": {},
   "source": [
    "Sometimes, we want to make something more general than a for loop, that can be used with different input values, but perform the same processes on them.\n",
    "Then, we make functions."
   ]
  },
  {
   "cell_type": "markdown",
   "metadata": {},
   "source": [
    "Functions take the form:\n",
    "\n",
    "``` def function_name(function_input):\n",
    "            function process\n",
    "```\n",
    "\n",
    "Where def means to define the function. The function name will be used to call the function once we have defined it."
   ]
  },
  {
   "cell_type": "markdown",
   "metadata": {},
   "source": [
    "A function allows you to generalise a process to more than 1 particular input value.\n",
    "In the example below, we use the for loop from above, but we generalise it, so that it can perform that process for any range of numbers."
   ]
  },
  {
   "cell_type": "code",
   "execution_count": 12,
   "metadata": {
    "collapsed": true
   },
   "outputs": [],
   "source": [
    "# e.g. this is how to define a function\n",
    "# this function takes a number as input\n",
    "# this number will decide the range of numbers we loop over in the for loop\n",
    "\n",
    "def print_num(a_num):\n",
    "    for i in range(a_num):\n",
    "        print \"Look! I printed a number!  \", i "
   ]
  },
  {
   "cell_type": "code",
   "execution_count": 14,
   "metadata": {},
   "outputs": [
    {
     "name": "stdout",
     "output_type": "stream",
     "text": [
      "Look! I printed a number!   0\n",
      "Look! I printed a number!   1\n",
      "Look! I printed a number!   2\n",
      "Look! I printed a number!   3\n"
     ]
    }
   ],
   "source": [
    "# to call a function, write the function name and the number you want to input in brackets\n",
    "# e.g. this replicates the for loop above\n",
    "print_num(4)"
   ]
  },
  {
   "cell_type": "code",
   "execution_count": 15,
   "metadata": {},
   "outputs": [
    {
     "name": "stdout",
     "output_type": "stream",
     "text": [
      "Look! I printed a number!   0\n",
      "Look! I printed a number!   1\n",
      "Look! I printed a number!   2\n",
      "Look! I printed a number!   3\n",
      "Look! I printed a number!   4\n",
      "Look! I printed a number!   5\n"
     ]
    }
   ],
   "source": [
    "# but we can put any number in there\n",
    "print_num(6)"
   ]
  },
  {
   "cell_type": "markdown",
   "metadata": {},
   "source": [
    "In the function above, we print our output. However, if you print the output, you can't reuse it.\n",
    "Sometimes we want to reuse the output of a function to do other operations. In these cases, we can use the ```return``` command to do that."
   ]
  },
  {
   "cell_type": "code",
   "execution_count": 19,
   "metadata": {
    "collapsed": true
   },
   "outputs": [],
   "source": [
    "# you can return the output of a function as a value, not as a printed statement\n",
    "# in this way, we can reuse the output\n",
    "\n",
    "# this function takes a number and doubles it. That's it.\n",
    "# it returns the doubled number as a value\n",
    "def double_num(a_num):\n",
    "    doubled = a_num * 2\n",
    "    return doubled"
   ]
  },
  {
   "cell_type": "code",
   "execution_count": 20,
   "metadata": {},
   "outputs": [
    {
     "data": {
      "text/plain": [
       "10"
      ]
     },
     "execution_count": 20,
     "metadata": {},
     "output_type": "execute_result"
    }
   ],
   "source": [
    "# when we run the function, it returns the doubled number\n",
    "# this may look like it just prints the result, as before\n",
    "# but we can use this result\n",
    "\n",
    "double_num(5)"
   ]
  },
  {
   "cell_type": "code",
   "execution_count": 21,
   "metadata": {},
   "outputs": [
    {
     "data": {
      "text/plain": [
       "20"
      ]
     },
     "execution_count": 21,
     "metadata": {},
     "output_type": "execute_result"
    }
   ],
   "source": [
    "# We can perform operations on the function output directly\n",
    "\n",
    "double_num(5) * 2\n"
   ]
  },
  {
   "cell_type": "code",
   "execution_count": 22,
   "metadata": {
    "collapsed": true
   },
   "outputs": [],
   "source": [
    "# or we can save the output to a variable\n",
    "\n",
    "double_five = double_num(5)"
   ]
  },
  {
   "cell_type": "code",
   "execution_count": 23,
   "metadata": {},
   "outputs": [
    {
     "name": "stdout",
     "output_type": "stream",
     "text": [
      "10\n"
     ]
    }
   ],
   "source": [
    "print double_five"
   ]
  },
  {
   "cell_type": "code",
   "execution_count": 25,
   "metadata": {},
   "outputs": [
    {
     "data": {
      "text/plain": [
       "30"
      ]
     },
     "execution_count": 25,
     "metadata": {},
     "output_type": "execute_result"
    }
   ],
   "source": [
    "# we can perform other operations on our variable\n",
    "double_five * 3"
   ]
  },
  {
   "cell_type": "code",
   "execution_count": 26,
   "metadata": {},
   "outputs": [
    {
     "data": {
      "text/plain": [
       "10"
      ]
     },
     "execution_count": 26,
     "metadata": {},
     "output_type": "execute_result"
    }
   ],
   "source": [
    "# note that the above command does not change the variable permanently\n",
    "double_five"
   ]
  },
  {
   "cell_type": "markdown",
   "metadata": {},
   "source": [
    "Feel free to play around and have a go at creating your own functions"
   ]
  },
  {
   "cell_type": "code",
   "execution_count": 32,
   "metadata": {
    "collapsed": true
   },
   "outputs": [],
   "source": [
    "# play around here\n",
    "\n"
   ]
  }
 ],
 "metadata": {
  "kernelspec": {
   "display_name": "Python 2",
   "language": "python",
   "name": "python2"
  },
  "language_info": {
   "codemirror_mode": {
    "name": "ipython",
    "version": 2
   },
   "file_extension": ".py",
   "mimetype": "text/x-python",
   "name": "python",
   "nbconvert_exporter": "python",
   "pygments_lexer": "ipython2",
   "version": "2.7.13"
  }
 },
 "nbformat": 4,
 "nbformat_minor": 2
}
