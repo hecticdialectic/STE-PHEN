{
 "cells": [
  {
   "cell_type": "markdown",
   "metadata": {},
   "source": [
    "# Simulating an Imaginary World of Biased Agents\n",
    "\n",
    "##### Author: Bill Thompson (biltho@mpi.nl) \n",
    " \n",
    "<img src=\"agents.jpg\" alt=\"PYMC3\" style=\"width: 400px;\"/>\n",
    "\n",
    "---------------\n",
    "\n",
    "##### Summary\n",
    "This notebook allows you to simulate small (N = 25) populations of communicating Bayesian agents. The model is based on a simulation by Nielsen & Thompson (in prep.) and instantiates populations of biased agents who communicate to converge on a shared vocabulary.\n",
    "\n",
    "The code that implements this model is included in the folder that this notebook is in. If you're interested in the code, feel free to look at population.py, agent.py. The file simulation.py mainly just imports the two other and provides some plotting functions.\n",
    "\n",
    "The idea here is to specify a set of biases that will be built in to the agents, then simulate a population of those agents, and see how well the resulting languages reflect the biases you built into the agents. \n",
    "\n",
    "**Question:** On average, how many of the 4 biases you build into the agents are represented in the language they invent? \n",
    "\n",
    "-------------- \n",
    "\n",
    "\n",
    "### 1: Specifying Agents' Biases\n",
    "To change the biases that we're building into agents, change any of the green numbers in the 'biases' dictionary inside the next cell. Any number you enter should be between zero and one. The number you enter is the probability of a \"consistent\" assosciation. In the shape related assosciations, we are dealing with the contrast circular / square.  **We are counting \"circular\" as \"high\" and \"square\" as \"low\"**."
   ]
  },
  {
   "cell_type": "code",
   "execution_count": 1,
   "metadata": {
    "collapsed": true
   },
   "outputs": [],
   "source": [
    "# These are the biases we're building into agents. \n",
    "biases = {\n",
    "    'size-pitch': 0.95,\n",
    "    'size-noise': 0.95,\n",
    "    'shape-pitch': .95,\n",
    "    'shape-noise': 0.95\n",
    "}"
   ]
  },
  {
   "cell_type": "markdown",
   "metadata": {},
   "source": [
    "## 2: Plot the prior biases you specified!\n",
    "\n",
    "\n",
    "This piece of code allows you to visualise the biases you specified as a matrix. "
   ]
  },
  {
   "cell_type": "code",
   "execution_count": 2,
   "metadata": {
    "scrolled": true
   },
   "outputs": [
    {
     "data": {
      "image/png": "[encoded data removed]",
      "text/plain": [
       "<matplotlib.figure.Figure at 0x10b552f50>"
      ]
     },
     "metadata": {},
     "output_type": "display_data"
    }
   ],
   "source": [
    "import simulation \n",
    "\n",
    "# tell the notebook to show figures inline\n",
    "%matplotlib inline\n",
    "\n",
    "# plot the prior biases matrix you specified\n",
    "simulation.plot_prior(biases)"
   ]
  },
  {
   "cell_type": "markdown",
   "metadata": {},
   "source": [
    "## 3: Simulate cultural evolution of a communication system!\n",
    "\n",
    "\n",
    "Run the following cell to simulate a populatio of agents with the biases you specified. Pay attention to the output printed by this cell while the simulation is running. "
   ]
  },
  {
   "cell_type": "code",
   "execution_count": null,
   "metadata": {},
   "outputs": [
    {
     "name": "stdout",
     "output_type": "stream",
     "text": [
      "** Starting simulation now **\n",
      "\t- Succesfully created population.\n",
      "\t- Running signalling games now. Please wait...\n"
     ]
    }
   ],
   "source": [
    "results = simulation.simulate(biases)"
   ]
  },
  {
   "cell_type": "markdown",
   "metadata": {},
   "source": [
    "## 4: Plot the language that your agents invented!\n",
    "\n",
    "\n",
    "This piece of code allows you to visualise the conventional language your agents invented. How does this matrix compare to the biases you built in? How many of the biases are satisfied?"
   ]
  },
  {
   "cell_type": "code",
   "execution_count": 8,
   "metadata": {},
   "outputs": [
    {
     "data": {
      "image/png": "[encoded data removed]",
      "text/plain": [
       "<matplotlib.figure.Figure at 0x10e554510>"
      ]
     },
     "metadata": {},
     "output_type": "display_data"
    }
   ],
   "source": [
    "simulation.plot_language(results)"
   ]
  },
  {
   "cell_type": "code",
   "execution_count": null,
   "metadata": {
    "collapsed": true
   },
   "outputs": [],
   "source": []
  },
  {
   "cell_type": "code",
   "execution_count": null,
   "metadata": {
    "collapsed": true
   },
   "outputs": [],
   "source": []
  }
 ],
 "metadata": {
  "kernelspec": {
   "display_name": "Python 2",
   "language": "python",
   "name": "python2"
  },
  "language_info": {
   "codemirror_mode": {
    "name": "ipython",
    "version": 2
   },
   "file_extension": ".py",
   "mimetype": "text/x-python",
   "name": "python",
   "nbconvert_exporter": "python",
   "pygments_lexer": "ipython2",
   "version": "2.7.11"
  }
 },
 "nbformat": 4,
 "nbformat_minor": 2
}
