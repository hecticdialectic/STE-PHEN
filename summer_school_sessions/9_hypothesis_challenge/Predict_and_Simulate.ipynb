{
 "cells": [
  {
   "cell_type": "markdown",
   "metadata": {},
   "source": [
    "# Simulate Data from Your Predictions!\n",
    "\n",
    "First replace the filename in the cell below with the filename for your predictions. This file should be in this folder. Then run the all the cells below. If everything works properly, this will result in a new file called \"SimDataFilled.csv\" containing your simulated data. "
   ]
  },
  {
   "cell_type": "code",
   "execution_count": 8,
   "metadata": {
    "collapsed": true
   },
   "outputs": [],
   "source": [
    "import pandas as pd\n",
    "\n",
    "import numpy as np\n",
    "\n",
    "PREDICTIONS_FILENAME = '_PREDICTIONS.csv' # PUT THE NAME OF YOUR FILE \"MyPredictions_Long_YOURNAME.csv\""
   ]
  },
  {
   "cell_type": "code",
   "execution_count": 9,
   "metadata": {},
   "outputs": [
    {
     "name": "stdout",
     "output_type": "stream",
     "text": [
      "- Succesfully read predictions dataframe.\n",
      "- Deteced 93 predictions.\n",
      "- Imputing 0 remaining predictions now.\n",
      "- Finished imputing predictions.\n",
      "- Saving data to MyImputedPredictions.csv\n",
      "- Complete.\n"
     ]
    }
   ],
   "source": [
    "from predict import predict\n",
    "\n",
    "predict(PREDICTIONS_FILENAME)"
   ]
  },
  {
   "cell_type": "code",
   "execution_count": 10,
   "metadata": {},
   "outputs": [
    {
     "name": "stdout",
     "output_type": "stream",
     "text": [
      "- Succesfully read in predictions.\n",
      "- Simulating data now.\n",
      "- Simulation complete.\n",
      "- Saved simulated data to SimDataFilled.csv\n"
     ]
    }
   ],
   "source": [
    "from simulate import simulate\n",
    "\n",
    "simulate('MyImputedPredictions.csv')"
   ]
  },
  {
   "cell_type": "code",
   "execution_count": null,
   "metadata": {
    "collapsed": true
   },
   "outputs": [],
   "source": []
  }
 ],
 "metadata": {
  "kernelspec": {
   "display_name": "Python 2",
   "language": "python",
   "name": "python2"
  },
  "language_info": {
   "codemirror_mode": {
    "name": "ipython",
    "version": 2
   },
   "file_extension": ".py",
   "mimetype": "text/x-python",
   "name": "python",
   "nbconvert_exporter": "python",
   "pygments_lexer": "ipython2",
   "version": "2.7.11"
  }
 },
 "nbformat": 4,
 "nbformat_minor": 2
}
